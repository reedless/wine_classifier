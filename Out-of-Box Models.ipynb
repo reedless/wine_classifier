{
 "cells": [
  {
   "cell_type": "code",
   "execution_count": 160,
   "metadata": {},
   "outputs": [],
   "source": [
    "import pandas as pd\n",
    "from sklearn.model_selection import train_test_split\n",
    "\n",
    "from sklearn.linear_model import LogisticRegression\n",
    "from sklearn.discriminant_analysis import LinearDiscriminantAnalysis\n",
    "from sklearn.neighbors import KNeighborsClassifier\n",
    "from sklearn.naive_bayes import GaussianNB\n",
    "from sklearn.tree import DecisionTreeClassifier\n",
    "from sklearn.svm import LinearSVC\n",
    "\n",
    "from xgboost import XGBClassifier\n",
    "from sklearn.ensemble import RandomForestClassifier\n",
    "\n",
    "from sklearn.metrics import accuracy_score\n",
    "from sklearn.metrics import classification_report\n",
    "from sklearn.metrics import confusion_matrix\n",
    "\n",
    "from sklearn import preprocessing"
   ]
  },
  {
   "cell_type": "code",
   "execution_count": 118,
   "metadata": {},
   "outputs": [],
   "source": [
    "df = pd.read_csv(\"wine_quality.csv\")"
   ]
  },
  {
   "cell_type": "code",
   "execution_count": 119,
   "metadata": {},
   "outputs": [
    {
     "data": {
      "text/html": [
       "<div>\n",
       "<style scoped>\n",
       "    .dataframe tbody tr th:only-of-type {\n",
       "        vertical-align: middle;\n",
       "    }\n",
       "\n",
       "    .dataframe tbody tr th {\n",
       "        vertical-align: top;\n",
       "    }\n",
       "\n",
       "    .dataframe thead th {\n",
       "        text-align: right;\n",
       "    }\n",
       "</style>\n",
       "<table border=\"1\" class=\"dataframe\">\n",
       "  <thead>\n",
       "    <tr style=\"text-align: right;\">\n",
       "      <th></th>\n",
       "      <th>country</th>\n",
       "      <th>description</th>\n",
       "      <th>points</th>\n",
       "      <th>price</th>\n",
       "      <th>variety</th>\n",
       "    </tr>\n",
       "  </thead>\n",
       "  <tbody>\n",
       "    <tr>\n",
       "      <th>0</th>\n",
       "      <td>US</td>\n",
       "      <td>This tremendous 100% varietal wine hails from ...</td>\n",
       "      <td>96</td>\n",
       "      <td>235.0</td>\n",
       "      <td>Cabernet Sauvignon</td>\n",
       "    </tr>\n",
       "    <tr>\n",
       "      <th>1</th>\n",
       "      <td>Spain</td>\n",
       "      <td>Ripe aromas of fig, blackberry and cassis are ...</td>\n",
       "      <td>96</td>\n",
       "      <td>110.0</td>\n",
       "      <td>Tinta de Toro</td>\n",
       "    </tr>\n",
       "    <tr>\n",
       "      <th>2</th>\n",
       "      <td>US</td>\n",
       "      <td>Mac Watson honors the memory of a wine once ma...</td>\n",
       "      <td>96</td>\n",
       "      <td>90.0</td>\n",
       "      <td>Sauvignon Blanc</td>\n",
       "    </tr>\n",
       "    <tr>\n",
       "      <th>3</th>\n",
       "      <td>US</td>\n",
       "      <td>This spent 20 months in 30% new French oak, an...</td>\n",
       "      <td>96</td>\n",
       "      <td>65.0</td>\n",
       "      <td>Pinot Noir</td>\n",
       "    </tr>\n",
       "    <tr>\n",
       "      <th>4</th>\n",
       "      <td>France</td>\n",
       "      <td>This is the top wine from La Bégude, named aft...</td>\n",
       "      <td>95</td>\n",
       "      <td>66.0</td>\n",
       "      <td>Provence red blend</td>\n",
       "    </tr>\n",
       "  </tbody>\n",
       "</table>\n",
       "</div>"
      ],
      "text/plain": [
       "  country                                        description  points  price  \\\n",
       "0      US  This tremendous 100% varietal wine hails from ...      96  235.0   \n",
       "1   Spain  Ripe aromas of fig, blackberry and cassis are ...      96  110.0   \n",
       "2      US  Mac Watson honors the memory of a wine once ma...      96   90.0   \n",
       "3      US  This spent 20 months in 30% new French oak, an...      96   65.0   \n",
       "4  France  This is the top wine from La Bégude, named aft...      95   66.0   \n",
       "\n",
       "              variety  \n",
       "0  Cabernet Sauvignon  \n",
       "1       Tinta de Toro  \n",
       "2     Sauvignon Blanc  \n",
       "3          Pinot Noir  \n",
       "4  Provence red blend  "
      ]
     },
     "execution_count": 119,
     "metadata": {},
     "output_type": "execute_result"
    }
   ],
   "source": [
    "df.head()"
   ]
  },
  {
   "cell_type": "markdown",
   "metadata": {},
   "source": [
    "# Pick out features X and labels y"
   ]
  },
  {
   "cell_type": "code",
   "execution_count": 120,
   "metadata": {},
   "outputs": [],
   "source": [
    "X = df.iloc[:,2:4].values\n",
    "y = df['country']"
   ]
  },
  {
   "cell_type": "code",
   "execution_count": 121,
   "metadata": {
    "scrolled": true
   },
   "outputs": [
    {
     "data": {
      "text/plain": [
       "(array([[ 96., 235.],\n",
       "        [ 96., 110.],\n",
       "        [ 96.,  90.],\n",
       "        ...,\n",
       "        [ 91.,  20.],\n",
       "        [ 90.,  52.],\n",
       "        [ 90.,  15.]]), 0        US\n",
       " 1     Spain\n",
       " 2        US\n",
       " 3        US\n",
       " 4    France\n",
       " Name: country, dtype: object)"
      ]
     },
     "execution_count": 121,
     "metadata": {},
     "output_type": "execute_result"
    }
   ],
   "source": [
    "X, y.head()"
   ]
  },
  {
   "cell_type": "markdown",
   "metadata": {},
   "source": [
    "# Split dataset into test and train\n"
   ]
  },
  {
   "cell_type": "code",
   "execution_count": 169,
   "metadata": {},
   "outputs": [],
   "source": [
    "X_train, X_test, y_train, y_test = train_test_split(X, y, test_size=0.30, random_state=0)"
   ]
  },
  {
   "cell_type": "code",
   "execution_count": 170,
   "metadata": {
    "scrolled": true
   },
   "outputs": [
    {
     "name": "stdout",
     "output_type": "stream",
     "text": [
      "[[91. 38.]\n",
      " [89. 50.]\n",
      " [87. 38.]\n",
      " ...\n",
      " [83. 14.]\n",
      " [86. 30.]\n",
      " [83. 38.]]\n"
     ]
    },
    {
     "data": {
      "text/plain": [
       "102104        US\n",
       "39339         US\n",
       "57198         US\n",
       "28598      Italy\n",
       "85027     France\n",
       "Name: country, dtype: object"
      ]
     },
     "execution_count": 170,
     "metadata": {},
     "output_type": "execute_result"
    }
   ],
   "source": [
    "print(X_train)\n",
    "y_train.head()"
   ]
  },
  {
   "cell_type": "markdown",
   "metadata": {},
   "source": [
    "# Initialise models"
   ]
  },
  {
   "cell_type": "code",
   "execution_count": 189,
   "metadata": {},
   "outputs": [],
   "source": [
    "# Initialise models\n",
    "LR_model         = LogisticRegression(random_state=0, solver='lbfgs', multi_class='multinomial')\n",
    "LDA_model        = LinearDiscriminantAnalysis()\n",
    "KNN_model        = KNeighborsClassifier()\n",
    "GaussianNB_model = GaussianNB()\n",
    "DTree_model      = DecisionTreeClassifier()\n",
    "SVC_model        = LinearSVC(multi_class='ovr')"
   ]
  },
  {
   "cell_type": "code",
   "execution_count": 190,
   "metadata": {},
   "outputs": [],
   "source": [
    "xgb_model = XGBClassifier(booster='gbtree', objective='multi:softprob', random_state=42, eval_metric=\"auc\", num_class=4)"
   ]
  },
  {
   "cell_type": "code",
   "execution_count": 191,
   "metadata": {},
   "outputs": [],
   "source": [
    "RandFC_model = RandomForestClassifier(n_estimators=1000, max_depth=10, random_state=0)"
   ]
  },
  {
   "cell_type": "markdown",
   "metadata": {},
   "source": [
    "# Fit the models"
   ]
  },
  {
   "cell_type": "code",
   "execution_count": 192,
   "metadata": {},
   "outputs": [
    {
     "data": {
      "text/plain": [
       "LogisticRegression(C=1.0, class_weight=None, dual=False, fit_intercept=True,\n",
       "          intercept_scaling=1, max_iter=100, multi_class='multinomial',\n",
       "          n_jobs=None, penalty='l2', random_state=0, solver='lbfgs',\n",
       "          tol=0.0001, verbose=0, warm_start=False)"
      ]
     },
     "execution_count": 192,
     "metadata": {},
     "output_type": "execute_result"
    }
   ],
   "source": [
    "LR_model.fit(X_train, y_train)"
   ]
  },
  {
   "cell_type": "code",
   "execution_count": 193,
   "metadata": {},
   "outputs": [
    {
     "data": {
      "text/plain": [
       "LinearDiscriminantAnalysis(n_components=None, priors=None, shrinkage=None,\n",
       "              solver='svd', store_covariance=False, tol=0.0001)"
      ]
     },
     "execution_count": 193,
     "metadata": {},
     "output_type": "execute_result"
    }
   ],
   "source": [
    "LDA_model.fit(X_train, y_train)"
   ]
  },
  {
   "cell_type": "code",
   "execution_count": 194,
   "metadata": {},
   "outputs": [
    {
     "data": {
      "text/plain": [
       "KNeighborsClassifier(algorithm='auto', leaf_size=30, metric='minkowski',\n",
       "           metric_params=None, n_jobs=None, n_neighbors=5, p=2,\n",
       "           weights='uniform')"
      ]
     },
     "execution_count": 194,
     "metadata": {},
     "output_type": "execute_result"
    }
   ],
   "source": [
    "KNN_model.fit(X_train, y_train)"
   ]
  },
  {
   "cell_type": "code",
   "execution_count": 195,
   "metadata": {},
   "outputs": [
    {
     "data": {
      "text/plain": [
       "GaussianNB(priors=None, var_smoothing=1e-09)"
      ]
     },
     "execution_count": 195,
     "metadata": {},
     "output_type": "execute_result"
    }
   ],
   "source": [
    "GaussianNB_model.fit(X_train, y_train)"
   ]
  },
  {
   "cell_type": "code",
   "execution_count": 196,
   "metadata": {},
   "outputs": [
    {
     "data": {
      "text/plain": [
       "DecisionTreeClassifier(class_weight=None, criterion='gini', max_depth=None,\n",
       "            max_features=None, max_leaf_nodes=None,\n",
       "            min_impurity_decrease=0.0, min_impurity_split=None,\n",
       "            min_samples_leaf=1, min_samples_split=2,\n",
       "            min_weight_fraction_leaf=0.0, presort=False, random_state=None,\n",
       "            splitter='best')"
      ]
     },
     "execution_count": 196,
     "metadata": {},
     "output_type": "execute_result"
    }
   ],
   "source": [
    "DTree_model.fit(X_train, y_train)"
   ]
  },
  {
   "cell_type": "code",
   "execution_count": 197,
   "metadata": {},
   "outputs": [
    {
     "name": "stderr",
     "output_type": "stream",
     "text": [
      "/home/reedless/anaconda3/lib/python3.7/site-packages/sklearn/svm/base.py:931: ConvergenceWarning: Liblinear failed to converge, increase the number of iterations.\n",
      "  \"the number of iterations.\", ConvergenceWarning)\n"
     ]
    },
    {
     "data": {
      "text/plain": [
       "LinearSVC(C=1.0, class_weight=None, dual=True, fit_intercept=True,\n",
       "     intercept_scaling=1, loss='squared_hinge', max_iter=1000,\n",
       "     multi_class='ovr', penalty='l2', random_state=None, tol=0.0001,\n",
       "     verbose=0)"
      ]
     },
     "execution_count": 197,
     "metadata": {},
     "output_type": "execute_result"
    }
   ],
   "source": [
    "SVC_model.fit(X_train, y_train)"
   ]
  },
  {
   "cell_type": "code",
   "execution_count": 198,
   "metadata": {},
   "outputs": [
    {
     "data": {
      "text/plain": [
       "XGBClassifier(base_score=0.5, booster='gbtree', colsample_bylevel=1,\n",
       "       colsample_bynode=1, colsample_bytree=1, eval_metric='auc', gamma=0,\n",
       "       learning_rate=0.1, max_delta_step=0, max_depth=3,\n",
       "       min_child_weight=1, missing=None, n_estimators=100, n_jobs=1,\n",
       "       nthread=None, num_class=4, objective='multi:softprob',\n",
       "       random_state=42, reg_alpha=0, reg_lambda=1, scale_pos_weight=1,\n",
       "       seed=None, silent=None, subsample=1, verbosity=1)"
      ]
     },
     "execution_count": 198,
     "metadata": {},
     "output_type": "execute_result"
    }
   ],
   "source": [
    "xgb_model.fit(X_train,y_train)"
   ]
  },
  {
   "cell_type": "code",
   "execution_count": 199,
   "metadata": {},
   "outputs": [
    {
     "data": {
      "text/plain": [
       "RandomForestClassifier(bootstrap=True, class_weight=None, criterion='gini',\n",
       "            max_depth=10, max_features='auto', max_leaf_nodes=None,\n",
       "            min_impurity_decrease=0.0, min_impurity_split=None,\n",
       "            min_samples_leaf=1, min_samples_split=2,\n",
       "            min_weight_fraction_leaf=0.0, n_estimators=1000, n_jobs=None,\n",
       "            oob_score=False, random_state=0, verbose=0, warm_start=False)"
      ]
     },
     "execution_count": 199,
     "metadata": {},
     "output_type": "execute_result"
    }
   ],
   "source": [
    "RandFC_model.fit(X_train,y_train)"
   ]
  },
  {
   "cell_type": "markdown",
   "metadata": {},
   "source": [
    "# Save predictions for evaluation\n"
   ]
  },
  {
   "cell_type": "code",
   "execution_count": 200,
   "metadata": {},
   "outputs": [],
   "source": [
    "list_of_predictions = []\n",
    "\n",
    "LR_prediction    = LR_model.predict(X_test)\n",
    "list_of_predictions.append(LR_prediction)\n",
    "\n",
    "LDA_prediction   = LDA_model.predict(X_test)\n",
    "list_of_predictions.append(LDA_prediction)\n",
    "\n",
    "KNN_prediction   = KNN_model.predict(X_test)\n",
    "list_of_predictions.append(KNN_prediction)\n",
    "\n",
    "GNB_prediction   = GaussianNB_model.predict(X_test)\n",
    "list_of_predictions.append(GNB_prediction)\n",
    "\n",
    "DTree_prediction = DTree_model.predict(X_test)\n",
    "list_of_predictions.append(DTree_prediction)\n",
    "\n",
    "SVC_prediction   = SVC_model.predict(X_test)\n",
    "list_of_predictions.append(SVC_prediction)\n"
   ]
  },
  {
   "cell_type": "code",
   "execution_count": 201,
   "metadata": {},
   "outputs": [],
   "source": [
    "XGB_prediction   = xgb_model.predict(X_test)\n",
    "list_of_predictions.append(XGB_prediction)"
   ]
  },
  {
   "cell_type": "code",
   "execution_count": 202,
   "metadata": {},
   "outputs": [],
   "source": [
    "RandFC_prediction = RandFC_model.predict(X_test)\n",
    "list_of_predictions.append(RandFC_prediction)"
   ]
  },
  {
   "cell_type": "markdown",
   "metadata": {},
   "source": [
    "# Evaluation"
   ]
  },
  {
   "cell_type": "code",
   "execution_count": 203,
   "metadata": {},
   "outputs": [
    {
     "name": "stdout",
     "output_type": "stream",
     "text": [
      "0.598408266743686\n",
      "0.5987291807066526\n",
      "0.5256891627354706\n",
      "0.5945893905843843\n",
      "0.6076505888771221\n",
      "0.5137190719168191\n",
      "0.6007509386733417\n",
      "0.6026122396585475\n"
     ]
    }
   ],
   "source": [
    "# Accuracy score is the simplest way to evaluate\n",
    "for prediction in list_of_predictions:\n",
    "    print(accuracy_score(prediction, y_test))"
   ]
  },
  {
   "cell_type": "code",
   "execution_count": null,
   "metadata": {},
   "outputs": [],
   "source": []
  },
  {
   "cell_type": "code",
   "execution_count": null,
   "metadata": {},
   "outputs": [],
   "source": []
  },
  {
   "cell_type": "code",
   "execution_count": null,
   "metadata": {},
   "outputs": [],
   "source": []
  },
  {
   "cell_type": "code",
   "execution_count": null,
   "metadata": {},
   "outputs": [],
   "source": []
  },
  {
   "cell_type": "code",
   "execution_count": 151,
   "metadata": {},
   "outputs": [
    {
     "data": {
      "text/plain": [
       "US        12461\n",
       "Italy      3724\n",
       "France     2958\n",
       "Spain      1631\n",
       "Name: country, dtype: int64"
      ]
     },
     "execution_count": 151,
     "metadata": {},
     "output_type": "execute_result"
    }
   ],
   "source": [
    "y_test.value_counts()"
   ]
  },
  {
   "cell_type": "code",
   "execution_count": 158,
   "metadata": {},
   "outputs": [
    {
     "name": "stdout",
     "output_type": "stream",
     "text": [
      "[[   44    12     3     6]\n",
      " [    0     0     0     0]\n",
      " [    0     0     0     0]\n",
      " [ 2914  3712  1628 12455]]\n",
      "[[   57    21     7    17]\n",
      " [    0     0     0     0]\n",
      " [    0     0     0     0]\n",
      " [ 2901  3703  1624 12444]]\n",
      "[[ 538  387  214  854]\n",
      " [ 421  792  233 1265]\n",
      " [ 103  107  125  410]\n",
      " [1896 2438 1059 9932]]\n",
      "[[  292   169    51   293]\n",
      " [   13    27     5    34]\n",
      " [    0     0     0     0]\n",
      " [ 2653  3528  1575 12134]]\n",
      "[[  249    99    27   113]\n",
      " [  162   335    72   252]\n",
      " [   21    23    55    66]\n",
      " [ 2526  3267  1477 12030]]\n",
      "[[  229   141    55  1031]\n",
      " [  518   523   101  1287]\n",
      " [    0     0     0     0]\n",
      " [ 2211  3060  1475 10143]]\n",
      "[[  131    47    23    37]\n",
      " [    0     5     0     1]\n",
      " [    1     0     8     5]\n",
      " [ 2826  3672  1600 12418]]\n"
     ]
    }
   ],
   "source": [
    "# confusion_matrix for all predictions\n",
    "for prediction in list_of_predictions:\n",
    "    print(confusion_matrix(prediction, y_test))"
   ]
  },
  {
   "cell_type": "code",
   "execution_count": 159,
   "metadata": {},
   "outputs": [
    {
     "name": "stderr",
     "output_type": "stream",
     "text": [
      "/home/reedless/anaconda3/lib/python3.7/site-packages/sklearn/metrics/classification.py:1145: UndefinedMetricWarning: Recall and F-score are ill-defined and being set to 0.0 in labels with no true samples.\n",
      "  'recall', 'true', average, warn_for)\n"
     ]
    },
    {
     "name": "stdout",
     "output_type": "stream",
     "text": [
      "              precision    recall  f1-score   support\n",
      "\n",
      "      France       0.01      0.68      0.03        65\n",
      "       Italy       0.00      0.00      0.00         0\n",
      "       Spain       0.00      0.00      0.00         0\n",
      "          US       1.00      0.60      0.75     20709\n",
      "\n",
      "   micro avg       0.60      0.60      0.60     20774\n",
      "   macro avg       0.25      0.32      0.20     20774\n",
      "weighted avg       1.00      0.60      0.75     20774\n",
      "\n",
      "              precision    recall  f1-score   support\n",
      "\n",
      "      France       0.02      0.56      0.04       102\n",
      "       Italy       0.00      0.00      0.00         0\n",
      "       Spain       0.00      0.00      0.00         0\n",
      "          US       1.00      0.60      0.75     20672\n",
      "\n",
      "   micro avg       0.60      0.60      0.60     20774\n",
      "   macro avg       0.25      0.29      0.20     20774\n",
      "weighted avg       0.99      0.60      0.75     20774\n",
      "\n",
      "              precision    recall  f1-score   support\n",
      "\n",
      "      France       0.18      0.27      0.22      1993\n",
      "       Italy       0.21      0.29      0.25      2711\n",
      "       Spain       0.08      0.17      0.11       745\n",
      "          US       0.80      0.65      0.71     15325\n",
      "\n",
      "   micro avg       0.55      0.55      0.55     20774\n",
      "   macro avg       0.32      0.34      0.32     20774\n",
      "weighted avg       0.64      0.55      0.58     20774\n",
      "\n",
      "              precision    recall  f1-score   support\n",
      "\n",
      "      France       0.10      0.36      0.16       805\n",
      "       Italy       0.01      0.34      0.01        79\n",
      "       Spain       0.00      0.00      0.00         0\n",
      "          US       0.97      0.61      0.75     19890\n",
      "\n",
      "   micro avg       0.60      0.60      0.60     20774\n",
      "   macro avg       0.27      0.33      0.23     20774\n",
      "weighted avg       0.94      0.60      0.72     20774\n",
      "\n",
      "              precision    recall  f1-score   support\n",
      "\n",
      "      France       0.08      0.51      0.14       488\n",
      "       Italy       0.09      0.41      0.15       821\n",
      "       Spain       0.03      0.33      0.06       165\n",
      "          US       0.97      0.62      0.76     19300\n",
      "\n",
      "   micro avg       0.61      0.61      0.61     20774\n",
      "   macro avg       0.29      0.47      0.28     20774\n",
      "weighted avg       0.90      0.61      0.71     20774\n",
      "\n",
      "              precision    recall  f1-score   support\n",
      "\n",
      "      France       0.08      0.16      0.10      1456\n",
      "       Italy       0.14      0.22      0.17      2429\n",
      "       Spain       0.00      0.00      0.00         0\n",
      "          US       0.81      0.60      0.69     16889\n",
      "\n",
      "   micro avg       0.52      0.52      0.52     20774\n",
      "   macro avg       0.26      0.24      0.24     20774\n",
      "weighted avg       0.68      0.52      0.59     20774\n",
      "\n",
      "              precision    recall  f1-score   support\n",
      "\n",
      "      France       0.04      0.55      0.08       238\n",
      "       Italy       0.00      0.83      0.00         6\n",
      "       Spain       0.00      0.57      0.01        14\n",
      "          US       1.00      0.61      0.75     20516\n",
      "\n",
      "   micro avg       0.60      0.60      0.60     20774\n",
      "   macro avg       0.26      0.64      0.21     20774\n",
      "weighted avg       0.98      0.60      0.74     20774\n",
      "\n"
     ]
    }
   ],
   "source": [
    "# classification_report for all predictions\n",
    "for prediction in list_of_predictions:\n",
    "    print(classification_report(prediction, y_test))"
   ]
  },
  {
   "cell_type": "code",
   "execution_count": null,
   "metadata": {},
   "outputs": [],
   "source": []
  }
 ],
 "metadata": {
  "kernelspec": {
   "display_name": "Python 3",
   "language": "python",
   "name": "python3"
  },
  "language_info": {
   "codemirror_mode": {
    "name": "ipython",
    "version": 3
   },
   "file_extension": ".py",
   "mimetype": "text/x-python",
   "name": "python",
   "nbconvert_exporter": "python",
   "pygments_lexer": "ipython3",
   "version": "3.7.3"
  }
 },
 "nbformat": 4,
 "nbformat_minor": 2
}
